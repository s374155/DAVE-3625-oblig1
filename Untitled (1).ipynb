{
 "cells": [
  {
   "cell_type": "code",
   "execution_count": null,
   "id": "2409e7af-d984-42cf-800c-3cbd94fbabb2",
   "metadata": {},
   "outputs": [],
   "source": [
    "# Importer nødvendige biblioteker\n",
    "import pandas as pd\n",
    "import os\n",
    "\n",
    "# Sjekk nåværende arbeidskatalog\n",
    "print(\"Nåværende arbeidskatalog:\", os.getcwd())\n",
    "\n",
    "# Prøv å lese inn datasettet\n",
    "try:\n",
    "    # Last inn datasettet, endre filbanen hvis nødvendig\n",
    "    df = pd.read_csv('Grocery_dataset.csv')\n",
    "    print(\"Datasettet ble lastet inn riktig.\")\n",
    "except FileNotFoundError:\n",
    "    print(\"Filen 'Grocery_dataset.csv' ble ikke funnet. Vennligst sjekk filbanen.\")\n",
    "\n",
    "# Hvis filen ble lastet inn riktig, fortsett med oppgavene\n",
    "if 'df' in locals():  # Sjekk om df eksisterer\n",
    "    # Oppgave 5: Fjern kolonnene med indeksverdier 0 og 6 og opprett en ny DataFrame\n",
    "    columns_to_drop = [0, 6]\n",
    "    Grc_new_df = df.drop(df.columns[columns_to_drop], axis=1)\n",
    "\n",
    "    # Skriv ut de første radene for å bekrefte at kolonnene er fjernet\n",
    "    print(\"Grc_new_df after dropping columns with index 0 and 6:\")\n",
    "    print(Grc_new_df.head())\n",
    "\n",
    " # Oppgave 6: Lag to forskjellige DataFrames basert på Outlet_Type\n",
    "    SupType_1 = Grc_new_df[Grc_new_df['Outlet_Type'] == 'Supermarket Type1']\n",
    "    SupType_2 = Grc_new_df[Grc_new_df['Outlet_Type'] == 'Supermarket Type2']\n",
    "\n",
    "    # Skriv ut de første radene for hver DataFrame for å bekrefte\n",
    "    print(\"\\nSupType_1 DataFrame:\")\n",
    "    print(SupType_1.head())\n",
    "\n",
    "    print(\"\\nSupType_2 DataFrame:\")\n",
    "    print(SupType_2.head())\n",
    "else:\n",
    "    print(\"Kjøring av koden ble stoppet fordi datasettet ikke ble funnet.\")\n",
    "\n"
   ]
  }
 ],
 "metadata": {
  "kernelspec": {
   "display_name": "anaconda-2024.02-py310",
   "language": "python",
   "name": "conda-env-anaconda-2024.02-py310-py"
  },
  "language_info": {
   "codemirror_mode": {
    "name": "ipython",
    "version": 3
   },
   "file_extension": ".py",
   "mimetype": "text/x-python",
   "name": "python",
   "nbconvert_exporter": "python",
   "pygments_lexer": "ipython3",
   "version": "3.10.14"
  }
 },
 "nbformat": 4,
 "nbformat_minor": 5
}
